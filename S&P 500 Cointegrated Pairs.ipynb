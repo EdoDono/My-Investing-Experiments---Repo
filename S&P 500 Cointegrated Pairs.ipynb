{
 "cells": [
  {
   "cell_type": "code",
   "execution_count": null,
   "id": "808d352a",
   "metadata": {},
   "outputs": [],
   "source": [
    "import numpy as np\n",
    "import pandas as pd\n",
    "import yfinance as yf\n",
    "import requests\n",
    "from io import StringIO\n",
    "from itertools import combinations\n",
    "from statsmodels.tsa.stattools import coint\n",
    "import warnings\n",
    "warnings.filterwarnings(\"ignore\")"
   ]
  },
  {
   "cell_type": "code",
   "execution_count": 2,
   "id": "8e6b2ac4",
   "metadata": {},
   "outputs": [],
   "source": [
    "def get_sp500_tickers():\n",
    "    sp500_tickers = pd.read_html('https://en.wikipedia.org/wiki/List_of_S%26P_500_companies')[0]['Symbol'].tolist()\n",
    "    sp500_tickers = [ticker for ticker in sp500_tickers if ticker not in ['BF.B', 'BRK.B']]\n",
    "    return sp500_tickers\n",
    "\n",
    "\n",
    "def get_stock_prices(tickers, start_date, end_date):\n",
    "    data = yf.download(tickers, start=start_date, end=end_date)\n",
    "    stock_prices = data['Adj Close']\n",
    "    stock_prices.dropna(axis=1, inplace=True)\n",
    "    return stock_prices\n",
    "\n",
    "\n",
    "def find_cointegrated_pairs(stock_prices):\n",
    "    n = len(stock_prices.columns)\n",
    "    pairs = list(combinations(stock_prices.columns, 2))\n",
    "    cointegration_scores = {}\n",
    "    for pair in pairs:\n",
    "        stock1 = stock_prices[pair[0]]\n",
    "        stock2 = stock_prices[pair[1]]\n",
    "        stock1 = stock1.dropna()\n",
    "        stock2 = stock2.dropna()\n",
    "        \n",
    "        score, p_value, _ = coint(stock1, stock2)\n",
    "        cointegration_scores[pair] = {'score': score, 'p_value': p_value}\n",
    "    return cointegration_scores\n",
    "\n",
    "\n",
    "def select_top_pairs(cointegration_scores, top_n):\n",
    "    sorted_pairs = sorted(cointegration_scores.items(), key=lambda x: x[1]['score'], reverse=True)\n",
    "    top_pairs = sorted_pairs[:top_n]\n",
    "    return top_pairs"
   ]
  },
  {
   "cell_type": "code",
   "execution_count": null,
   "id": "692eb2ae",
   "metadata": {},
   "outputs": [
    {
     "name": "stderr",
     "output_type": "stream",
     "text": [
      "[*********************100%%**********************]  500 of 500 completed\n"
     ]
    }
   ],
   "source": [
    "start_date = '2023-01-01'\n",
    "end_date = '2024-01-01'\n",
    "top_n = 10\n",
    "\n",
    "sp500_tickers = get_sp500_tickers()\n",
    "\n",
    "stock_prices = get_stock_prices(sp500_tickers, start_date, end_date)\n",
    "\n",
    "cointegration_scores = find_cointegrated_pairs(stock_prices)\n",
    "\n",
    "top_pairs = select_top_pairs(cointegration_scores, top_n)\n",
    "\n",
    "print(\"Top\", top_n, \"cointegrated pairs:\")\n",
    "for pair in top_pairs:\n",
    "    print(pair)"
   ]
  },
  {
   "cell_type": "code",
   "execution_count": null,
   "id": "120f021d",
   "metadata": {},
   "outputs": [],
   "source": []
  }
 ],
 "metadata": {
  "kernelspec": {
   "display_name": "Python 3 (ipykernel)",
   "language": "python",
   "name": "python3"
  },
  "language_info": {
   "codemirror_mode": {
    "name": "ipython",
    "version": 3
   },
   "file_extension": ".py",
   "mimetype": "text/x-python",
   "name": "python",
   "nbconvert_exporter": "python",
   "pygments_lexer": "ipython3",
   "version": "3.9.13"
  }
 },
 "nbformat": 4,
 "nbformat_minor": 5
}
