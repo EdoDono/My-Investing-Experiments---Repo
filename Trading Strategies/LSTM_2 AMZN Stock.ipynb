{
 "cells": [
  {
   "cell_type": "markdown",
   "id": "ec46338b",
   "metadata": {},
   "source": [
    "## Amazon Stock ML"
   ]
  },
  {
   "cell_type": "code",
   "execution_count": 25,
   "id": "0f2ebbb1",
   "metadata": {},
   "outputs": [
    {
     "data": {
      "text/html": [
       "<div>\n",
       "<style scoped>\n",
       "    .dataframe tbody tr th:only-of-type {\n",
       "        vertical-align: middle;\n",
       "    }\n",
       "\n",
       "    .dataframe tbody tr th {\n",
       "        vertical-align: top;\n",
       "    }\n",
       "\n",
       "    .dataframe thead th {\n",
       "        text-align: right;\n",
       "    }\n",
       "</style>\n",
       "<table border=\"1\" class=\"dataframe\">\n",
       "  <thead>\n",
       "    <tr style=\"text-align: right;\">\n",
       "      <th></th>\n",
       "      <th>Close</th>\n",
       "      <th>Open</th>\n",
       "      <th>High</th>\n",
       "      <th>Low</th>\n",
       "      <th>Volume</th>\n",
       "    </tr>\n",
       "    <tr>\n",
       "      <th>Date</th>\n",
       "      <th></th>\n",
       "      <th></th>\n",
       "      <th></th>\n",
       "      <th></th>\n",
       "      <th></th>\n",
       "    </tr>\n",
       "  </thead>\n",
       "  <tbody>\n",
       "    <tr>\n",
       "      <th>2004-03-22 00:00:00-05:00</th>\n",
       "      <td>2.042500</td>\n",
       "      <td>2.087500</td>\n",
       "      <td>2.092500</td>\n",
       "      <td>2.025500</td>\n",
       "      <td>179502000</td>\n",
       "    </tr>\n",
       "    <tr>\n",
       "      <th>2004-03-23 00:00:00-05:00</th>\n",
       "      <td>2.011500</td>\n",
       "      <td>2.066000</td>\n",
       "      <td>2.087000</td>\n",
       "      <td>1.992500</td>\n",
       "      <td>224514000</td>\n",
       "    </tr>\n",
       "    <tr>\n",
       "      <th>2004-03-24 00:00:00-05:00</th>\n",
       "      <td>1.981500</td>\n",
       "      <td>2.015500</td>\n",
       "      <td>2.019000</td>\n",
       "      <td>1.957500</td>\n",
       "      <td>157518000</td>\n",
       "    </tr>\n",
       "    <tr>\n",
       "      <th>2004-03-25 00:00:00-05:00</th>\n",
       "      <td>2.099500</td>\n",
       "      <td>2.000000</td>\n",
       "      <td>2.110000</td>\n",
       "      <td>2.000000</td>\n",
       "      <td>142254000</td>\n",
       "    </tr>\n",
       "    <tr>\n",
       "      <th>2004-03-26 00:00:00-05:00</th>\n",
       "      <td>2.085000</td>\n",
       "      <td>2.100500</td>\n",
       "      <td>2.124500</td>\n",
       "      <td>2.064500</td>\n",
       "      <td>114808000</td>\n",
       "    </tr>\n",
       "    <tr>\n",
       "      <th>...</th>\n",
       "      <td>...</td>\n",
       "      <td>...</td>\n",
       "      <td>...</td>\n",
       "      <td>...</td>\n",
       "      <td>...</td>\n",
       "    </tr>\n",
       "    <tr>\n",
       "      <th>2024-03-13 00:00:00-04:00</th>\n",
       "      <td>176.559998</td>\n",
       "      <td>175.899994</td>\n",
       "      <td>177.619995</td>\n",
       "      <td>175.550003</td>\n",
       "      <td>30772600</td>\n",
       "    </tr>\n",
       "    <tr>\n",
       "      <th>2024-03-14 00:00:00-04:00</th>\n",
       "      <td>178.750000</td>\n",
       "      <td>177.690002</td>\n",
       "      <td>179.529999</td>\n",
       "      <td>176.470001</td>\n",
       "      <td>43705800</td>\n",
       "    </tr>\n",
       "    <tr>\n",
       "      <th>2024-03-15 00:00:00-04:00</th>\n",
       "      <td>174.419998</td>\n",
       "      <td>176.639999</td>\n",
       "      <td>177.929993</td>\n",
       "      <td>173.899994</td>\n",
       "      <td>72115500</td>\n",
       "    </tr>\n",
       "    <tr>\n",
       "      <th>2024-03-18 00:00:00-04:00</th>\n",
       "      <td>174.479996</td>\n",
       "      <td>175.800003</td>\n",
       "      <td>176.690002</td>\n",
       "      <td>174.279999</td>\n",
       "      <td>31250700</td>\n",
       "    </tr>\n",
       "    <tr>\n",
       "      <th>2024-03-19 00:00:00-04:00</th>\n",
       "      <td>175.899994</td>\n",
       "      <td>174.220001</td>\n",
       "      <td>176.089996</td>\n",
       "      <td>173.520004</td>\n",
       "      <td>26860400</td>\n",
       "    </tr>\n",
       "  </tbody>\n",
       "</table>\n",
       "<p>5033 rows × 5 columns</p>\n",
       "</div>"
      ],
      "text/plain": [
       "                                Close        Open        High         Low  \\\n",
       "Date                                                                        \n",
       "2004-03-22 00:00:00-05:00    2.042500    2.087500    2.092500    2.025500   \n",
       "2004-03-23 00:00:00-05:00    2.011500    2.066000    2.087000    1.992500   \n",
       "2004-03-24 00:00:00-05:00    1.981500    2.015500    2.019000    1.957500   \n",
       "2004-03-25 00:00:00-05:00    2.099500    2.000000    2.110000    2.000000   \n",
       "2004-03-26 00:00:00-05:00    2.085000    2.100500    2.124500    2.064500   \n",
       "...                               ...         ...         ...         ...   \n",
       "2024-03-13 00:00:00-04:00  176.559998  175.899994  177.619995  175.550003   \n",
       "2024-03-14 00:00:00-04:00  178.750000  177.690002  179.529999  176.470001   \n",
       "2024-03-15 00:00:00-04:00  174.419998  176.639999  177.929993  173.899994   \n",
       "2024-03-18 00:00:00-04:00  174.479996  175.800003  176.690002  174.279999   \n",
       "2024-03-19 00:00:00-04:00  175.899994  174.220001  176.089996  173.520004   \n",
       "\n",
       "                              Volume  \n",
       "Date                                  \n",
       "2004-03-22 00:00:00-05:00  179502000  \n",
       "2004-03-23 00:00:00-05:00  224514000  \n",
       "2004-03-24 00:00:00-05:00  157518000  \n",
       "2004-03-25 00:00:00-05:00  142254000  \n",
       "2004-03-26 00:00:00-05:00  114808000  \n",
       "...                              ...  \n",
       "2024-03-13 00:00:00-04:00   30772600  \n",
       "2024-03-14 00:00:00-04:00   43705800  \n",
       "2024-03-15 00:00:00-04:00   72115500  \n",
       "2024-03-18 00:00:00-04:00   31250700  \n",
       "2024-03-19 00:00:00-04:00   26860400  \n",
       "\n",
       "[5033 rows x 5 columns]"
      ]
     },
     "execution_count": 25,
     "metadata": {},
     "output_type": "execute_result"
    }
   ],
   "source": [
    "import pandas as pd\n",
    "import numpy as np\n",
    "import matplotlib.pyplot as plt\n",
    "import yfinance as yf\n",
    "import torch\n",
    "import torch.nn as nn\n",
    "from copy import deepcopy as dc\n",
    "from sklearn.preprocessing import MinMaxScaler\n",
    "\n",
    "\n",
    "data = yf.Ticker('AMZN').history(period='20y', interval=\"1d\")[['Close', 'Open', 'High','Low','Volume']]\n",
    "data"
   ]
  },
  {
   "cell_type": "code",
   "execution_count": 20,
   "id": "81ea5e68",
   "metadata": {},
   "outputs": [
    {
     "data": {
      "text/plain": [
       "[<matplotlib.lines.Line2D at 0x7fd2eb1b22e0>]"
      ]
     },
     "execution_count": 20,
     "metadata": {},
     "output_type": "execute_result"
    },
    {
     "data": {
      "image/png": "[encoded data removed]",
      "text/plain": [
       "<Figure size 640x480 with 1 Axes>"
      ]
     },
     "metadata": {},
     "output_type": "display_data"
    }
   ],
   "source": [
    "data = data[['Close']]\n",
    "device = 'cuda:0' if torch.cuda.is_available() else 'cpu'\n",
    "plt.plot(data['Close'])"
   ]
  },
  {
   "cell_type": "code",
   "execution_count": 21,
   "id": "2bb8d73a",
   "metadata": {},
   "outputs": [
    {
     "data": {
      "text/html": [
       "<div>\n",
       "<style scoped>\n",
       "    .dataframe tbody tr th:only-of-type {\n",
       "        vertical-align: middle;\n",
       "    }\n",
       "\n",
       "    .dataframe tbody tr th {\n",
       "        vertical-align: top;\n",
       "    }\n",
       "\n",
       "    .dataframe thead th {\n",
       "        text-align: right;\n",
       "    }\n",
       "</style>\n",
       "<table border=\"1\" class=\"dataframe\">\n",
       "  <thead>\n",
       "    <tr style=\"text-align: right;\">\n",
       "      <th></th>\n",
       "      <th>Close</th>\n",
       "      <th>Close(t-1)</th>\n",
       "      <th>Close(t-2)</th>\n",
       "      <th>Close(t-3)</th>\n",
       "      <th>Close(t-4)</th>\n",
       "      <th>Close(t-5)</th>\n",
       "      <th>Close(t-6)</th>\n",
       "      <th>Close(t-7)</th>\n",
       "    </tr>\n",
       "    <tr>\n",
       "      <th>Date</th>\n",
       "      <th></th>\n",
       "      <th></th>\n",
       "      <th></th>\n",
       "      <th></th>\n",
       "      <th></th>\n",
       "      <th></th>\n",
       "      <th></th>\n",
       "      <th></th>\n",
       "    </tr>\n",
       "  </thead>\n",
       "  <tbody>\n",
       "    <tr>\n",
       "      <th>2004-03-31 00:00:00-05:00</th>\n",
       "      <td>2.164000</td>\n",
       "      <td>2.190000</td>\n",
       "      <td>2.138000</td>\n",
       "      <td>2.085000</td>\n",
       "      <td>2.099500</td>\n",
       "      <td>1.981500</td>\n",
       "      <td>2.011500</td>\n",
       "      <td>2.042500</td>\n",
       "    </tr>\n",
       "    <tr>\n",
       "      <th>2004-04-01 00:00:00-05:00</th>\n",
       "      <td>2.237000</td>\n",
       "      <td>2.164000</td>\n",
       "      <td>2.190000</td>\n",
       "      <td>2.138000</td>\n",
       "      <td>2.085000</td>\n",
       "      <td>2.099500</td>\n",
       "      <td>1.981500</td>\n",
       "      <td>2.011500</td>\n",
       "    </tr>\n",
       "    <tr>\n",
       "      <th>2004-04-02 00:00:00-05:00</th>\n",
       "      <td>2.304500</td>\n",
       "      <td>2.237000</td>\n",
       "      <td>2.164000</td>\n",
       "      <td>2.190000</td>\n",
       "      <td>2.138000</td>\n",
       "      <td>2.085000</td>\n",
       "      <td>2.099500</td>\n",
       "      <td>1.981500</td>\n",
       "    </tr>\n",
       "    <tr>\n",
       "      <th>2004-04-05 00:00:00-04:00</th>\n",
       "      <td>2.348000</td>\n",
       "      <td>2.304500</td>\n",
       "      <td>2.237000</td>\n",
       "      <td>2.164000</td>\n",
       "      <td>2.190000</td>\n",
       "      <td>2.138000</td>\n",
       "      <td>2.085000</td>\n",
       "      <td>2.099500</td>\n",
       "    </tr>\n",
       "    <tr>\n",
       "      <th>2004-04-06 00:00:00-04:00</th>\n",
       "      <td>2.322000</td>\n",
       "      <td>2.348000</td>\n",
       "      <td>2.304500</td>\n",
       "      <td>2.237000</td>\n",
       "      <td>2.164000</td>\n",
       "      <td>2.190000</td>\n",
       "      <td>2.138000</td>\n",
       "      <td>2.085000</td>\n",
       "    </tr>\n",
       "    <tr>\n",
       "      <th>...</th>\n",
       "      <td>...</td>\n",
       "      <td>...</td>\n",
       "      <td>...</td>\n",
       "      <td>...</td>\n",
       "      <td>...</td>\n",
       "      <td>...</td>\n",
       "      <td>...</td>\n",
       "      <td>...</td>\n",
       "    </tr>\n",
       "    <tr>\n",
       "      <th>2024-03-13 00:00:00-04:00</th>\n",
       "      <td>176.559998</td>\n",
       "      <td>175.389999</td>\n",
       "      <td>171.960007</td>\n",
       "      <td>175.350006</td>\n",
       "      <td>176.820007</td>\n",
       "      <td>173.509995</td>\n",
       "      <td>174.119995</td>\n",
       "      <td>177.580002</td>\n",
       "    </tr>\n",
       "    <tr>\n",
       "      <th>2024-03-14 00:00:00-04:00</th>\n",
       "      <td>178.750000</td>\n",
       "      <td>176.559998</td>\n",
       "      <td>175.389999</td>\n",
       "      <td>171.960007</td>\n",
       "      <td>175.350006</td>\n",
       "      <td>176.820007</td>\n",
       "      <td>173.509995</td>\n",
       "      <td>174.119995</td>\n",
       "    </tr>\n",
       "    <tr>\n",
       "      <th>2024-03-15 00:00:00-04:00</th>\n",
       "      <td>174.419998</td>\n",
       "      <td>178.750000</td>\n",
       "      <td>176.559998</td>\n",
       "      <td>175.389999</td>\n",
       "      <td>171.960007</td>\n",
       "      <td>175.350006</td>\n",
       "      <td>176.820007</td>\n",
       "      <td>173.509995</td>\n",
       "    </tr>\n",
       "    <tr>\n",
       "      <th>2024-03-18 00:00:00-04:00</th>\n",
       "      <td>174.479996</td>\n",
       "      <td>174.419998</td>\n",
       "      <td>178.750000</td>\n",
       "      <td>176.559998</td>\n",
       "      <td>175.389999</td>\n",
       "      <td>171.960007</td>\n",
       "      <td>175.350006</td>\n",
       "      <td>176.820007</td>\n",
       "    </tr>\n",
       "    <tr>\n",
       "      <th>2024-03-19 00:00:00-04:00</th>\n",
       "      <td>175.899994</td>\n",
       "      <td>174.479996</td>\n",
       "      <td>174.419998</td>\n",
       "      <td>178.750000</td>\n",
       "      <td>176.559998</td>\n",
       "      <td>175.389999</td>\n",
       "      <td>171.960007</td>\n",
       "      <td>175.350006</td>\n",
       "    </tr>\n",
       "  </tbody>\n",
       "</table>\n",
       "<p>5026 rows × 8 columns</p>\n",
       "</div>"
      ],
      "text/plain": [
       "                                Close  Close(t-1)  Close(t-2)  Close(t-3)  \\\n",
       "Date                                                                        \n",
       "2004-03-31 00:00:00-05:00    2.164000    2.190000    2.138000    2.085000   \n",
       "2004-04-01 00:00:00-05:00    2.237000    2.164000    2.190000    2.138000   \n",
       "2004-04-02 00:00:00-05:00    2.304500    2.237000    2.164000    2.190000   \n",
       "2004-04-05 00:00:00-04:00    2.348000    2.304500    2.237000    2.164000   \n",
       "2004-04-06 00:00:00-04:00    2.322000    2.348000    2.304500    2.237000   \n",
       "...                               ...         ...         ...         ...   \n",
       "2024-03-13 00:00:00-04:00  176.559998  175.389999  171.960007  175.350006   \n",
       "2024-03-14 00:00:00-04:00  178.750000  176.559998  175.389999  171.960007   \n",
       "2024-03-15 00:00:00-04:00  174.419998  178.750000  176.559998  175.389999   \n",
       "2024-03-18 00:00:00-04:00  174.479996  174.419998  178.750000  176.559998   \n",
       "2024-03-19 00:00:00-04:00  175.899994  174.479996  174.419998  178.750000   \n",
       "\n",
       "                           Close(t-4)  Close(t-5)  Close(t-6)  Close(t-7)  \n",
       "Date                                                                       \n",
       "2004-03-31 00:00:00-05:00    2.099500    1.981500    2.011500    2.042500  \n",
       "2004-04-01 00:00:00-05:00    2.085000    2.099500    1.981500    2.011500  \n",
       "2004-04-02 00:00:00-05:00    2.138000    2.085000    2.099500    1.981500  \n",
       "2004-04-05 00:00:00-04:00    2.190000    2.138000    2.085000    2.099500  \n",
       "2004-04-06 00:00:00-04:00    2.164000    2.190000    2.138000    2.085000  \n",
       "...                               ...         ...         ...         ...  \n",
       "2024-03-13 00:00:00-04:00  176.820007  173.509995  174.119995  177.580002  \n",
       "2024-03-14 00:00:00-04:00  175.350006  176.820007  173.509995  174.119995  \n",
       "2024-03-15 00:00:00-04:00  171.960007  175.350006  176.820007  173.509995  \n",
       "2024-03-18 00:00:00-04:00  175.389999  171.960007  175.350006  176.820007  \n",
       "2024-03-19 00:00:00-04:00  176.559998  175.389999  171.960007  175.350006  \n",
       "\n",
       "[5026 rows x 8 columns]"
      ]
     },
     "execution_count": 21,
     "metadata": {},
     "output_type": "execute_result"
    }
   ],
   "source": [
    "def prepare_dataframe_for_lstm(df, n_steps):\n",
    "    df = dc(df)\n",
    "    \n",
    "    for i in range(1, n_steps+1):\n",
    "        df[f'Close(t-{i})'] = df['Close'].shift(i)\n",
    "        \n",
    "    df.dropna(inplace=True)\n",
    "    \n",
    "    return df\n",
    "\n",
    "lookback = 7\n",
    "shifted_df = prepare_dataframe_for_lstm(data, lookback)\n",
    "shifted_df"
   ]
  },
  {
   "cell_type": "code",
   "execution_count": 24,
   "id": "f1328467",
   "metadata": {},
   "outputs": [
    {
     "data": {
      "text/plain": [
       "(5026, 8)"
      ]
     },
     "execution_count": 24,
     "metadata": {},
     "output_type": "execute_result"
    }
   ],
   "source": [
    "shifted_df_as_np = shifted_df.to_numpy()\n",
    "shifted_df_as_np.shape"
   ]
  },
  {
   "cell_type": "code",
   "execution_count": 27,
   "id": "e67effff",
   "metadata": {},
   "outputs": [
    {
     "data": {
      "text/plain": [
       "((5026, 7), (5026,))"
      ]
     },
     "execution_count": 27,
     "metadata": {},
     "output_type": "execute_result"
    }
   ],
   "source": [
    "scaler = MinMaxScaler(feature_range=(-1, 1))\n",
    "shifted_df_as_np = scaler.fit_transform(shifted_df_as_np)\n",
    "\n",
    "X = shifted_df_as_np[:, 1:]\n",
    "y = shifted_df_as_np[:, 0]\n",
    "\n",
    "X.shape, y.shape"
   ]
  },
  {
   "cell_type": "code",
   "execution_count": 29,
   "id": "18d60dcc",
   "metadata": {},
   "outputs": [
    {
     "data": {
      "text/plain": [
       "4774"
      ]
     },
     "execution_count": 29,
     "metadata": {},
     "output_type": "execute_result"
    }
   ],
   "source": [
    "X = dc(np.flip(X, axis=1))\n",
    "split_index = int(len(X) * 0.95)\n",
    "split_index"
   ]
  },
  {
   "cell_type": "code",
   "execution_count": 31,
   "id": "427cb5c2",
   "metadata": {},
   "outputs": [],
   "source": [
    "X_train = X[:split_index]\n",
    "X_test = X[split_index:]\n",
    "y_train = y[:split_index]\n",
    "y_test = y[split_index:]\n",
    "\n",
    "X_train = X_train.reshape((-1, lookback, 1))\n",
    "X_test = X_test.reshape((-1, lookback, 1))\n",
    "y_train = y_train.reshape((-1, 1))\n",
    "y_test = y_test.reshape((-1, 1))\n",
    "\n",
    "X_train = torch.tensor(X_train).float()\n",
    "y_train = torch.tensor(y_train).float()\n",
    "X_test = torch.tensor(X_test).float()\n",
    "y_test = torch.tensor(y_test).float()"
   ]
  },
  {
   "cell_type": "code",
   "execution_count": 32,
   "id": "35a68708",
   "metadata": {},
   "outputs": [],
   "source": [
    "from torch.utils.data import Dataset\n",
    "\n",
    "class TimeSeriesDataset(Dataset):\n",
    "    def __init__(self, X, y):\n",
    "        self.X = X\n",
    "        self.y = y\n",
    "\n",
    "    def __len__(self):\n",
    "        return len(self.X)\n",
    "\n",
    "    def __getitem__(self, i):\n",
    "        return self.X[i], self.y[i]\n",
    "    \n",
    "train_dataset = TimeSeriesDataset(X_train, y_train)\n",
    "test_dataset = TimeSeriesDataset(X_test, y_test)"
   ]
  },
  {
   "cell_type": "code",
   "execution_count": 33,
   "id": "541fae7e",
   "metadata": {},
   "outputs": [],
   "source": [
    "from torch.utils.data import DataLoader\n",
    "\n",
    "batch_size = 16\n",
    "\n",
    "train_loader = DataLoader(train_dataset, batch_size=batch_size, shuffle=True)\n",
    "test_loader = DataLoader(test_dataset, batch_size=batch_size, shuffle=False)"
   ]
  },
  {
   "cell_type": "code",
   "execution_count": 34,
   "id": "ba4f9301",
   "metadata": {},
   "outputs": [
    {
     "name": "stdout",
     "output_type": "stream",
     "text": [
      "torch.Size([16, 7, 1]) torch.Size([16, 1])\n"
     ]
    }
   ],
   "source": [
    "for _, batch in enumerate(train_loader):\n",
    "    x_batch, y_batch = batch[0].to(device), batch[1].to(device)\n",
    "    print(x_batch.shape, y_batch.shape)\n",
    "    break"
   ]
  },
  {
   "cell_type": "code",
   "execution_count": 36,
   "id": "0cc0ee52",
   "metadata": {},
   "outputs": [
    {
     "data": {
      "text/plain": [
       "LSTM(\n",
       "  (lstm): LSTM(1, 4, batch_first=True)\n",
       "  (fc): Linear(in_features=4, out_features=1, bias=True)\n",
       ")"
      ]
     },
     "execution_count": 36,
     "metadata": {},
     "output_type": "execute_result"
    }
   ],
   "source": [
    "class LSTM(nn.Module):\n",
    "    def __init__(self, input_size, hidden_size, num_stacked_layers):\n",
    "        super().__init__()\n",
    "        self.hidden_size = hidden_size\n",
    "        self.num_stacked_layers = num_stacked_layers\n",
    "\n",
    "        self.lstm = nn.LSTM(input_size, hidden_size, num_stacked_layers, \n",
    "                            batch_first=True)\n",
    "        \n",
    "        self.fc = nn.Linear(hidden_size, 1)\n",
    "\n",
    "    def forward(self, x):\n",
    "        batch_size = x.size(0)\n",
    "        h0 = torch.zeros(self.num_stacked_layers, batch_size, self.hidden_size).to(device)\n",
    "        c0 = torch.zeros(self.num_stacked_layers, batch_size, self.hidden_size).to(device)\n",
    "        \n",
    "        out, _ = self.lstm(x, (h0, c0))\n",
    "        out = self.fc(out[:, -1, :])\n",
    "        return out\n",
    "\n",
    "model = LSTM(1, 4, 1)\n",
    "model.to(device)"
   ]
  },
  {
   "cell_type": "code",
   "execution_count": 37,
   "id": "635b409b",
   "metadata": {},
   "outputs": [],
   "source": [
    "def train_one_epoch():\n",
    "    model.train(True)\n",
    "    print(f'Epoch: {epoch + 1}')\n",
    "    running_loss = 0.0\n",
    "    \n",
    "    for batch_index, batch in enumerate(train_loader):\n",
    "        x_batch, y_batch = batch[0].to(device), batch[1].to(device)\n",
    "        \n",
    "        output = model(x_batch)\n",
    "        loss = loss_function(output, y_batch)\n",
    "        running_loss += loss.item()\n",
    "        \n",
    "        optimizer.zero_grad()\n",
    "        loss.backward()\n",
    "        optimizer.step()\n",
    "\n",
    "        if batch_index % 100 == 99:  # print every 100 batches\n",
    "            avg_loss_across_batches = running_loss / 100\n",
    "            print('Batch {0}, Loss: {1:.3f}'.format(batch_index+1,\n",
    "                                                    avg_loss_across_batches))\n",
    "            running_loss = 0.0\n",
    "    print()"
   ]
  },
  {
   "cell_type": "code",
   "execution_count": 38,
   "id": "be1be133",
   "metadata": {},
   "outputs": [],
   "source": [
    "def validate_one_epoch():\n",
    "    model.train(False)\n",
    "    running_loss = 0.0\n",
    "    \n",
    "    for batch_index, batch in enumerate(test_loader):\n",
    "        x_batch, y_batch = batch[0].to(device), batch[1].to(device)\n",
    "        \n",
    "        with torch.no_grad():\n",
    "            output = model(x_batch)\n",
    "            loss = loss_function(output, y_batch)\n",
    "            running_loss += loss.item()\n",
    "\n",
    "    avg_loss_across_batches = running_loss / len(test_loader)\n",
    "    \n",
    "    print('Val Loss: {0:.3f}'.format(avg_loss_across_batches))\n",
    "    print('***************************************************')\n",
    "    print()"
   ]
  },
  {
   "cell_type": "code",
   "execution_count": 39,
   "id": "7be0c933",
   "metadata": {},
   "outputs": [
    {
     "name": "stdout",
     "output_type": "stream",
     "text": [
      "Epoch: 1\n",
      "Batch 100, Loss: 1.016\n",
      "Batch 200, Loss: 0.409\n",
      "\n",
      "Val Loss: 0.073\n",
      "***************************************************\n",
      "\n",
      "Epoch: 2\n",
      "Batch 100, Loss: 0.017\n",
      "Batch 200, Loss: 0.015\n",
      "\n",
      "Val Loss: 0.030\n",
      "***************************************************\n",
      "\n",
      "Epoch: 3\n",
      "Batch 100, Loss: 0.009\n",
      "Batch 200, Loss: 0.009\n",
      "\n",
      "Val Loss: 0.016\n",
      "***************************************************\n",
      "\n",
      "Epoch: 4\n",
      "Batch 100, Loss: 0.004\n",
      "Batch 200, Loss: 0.004\n",
      "\n",
      "Val Loss: 0.010\n",
      "***************************************************\n",
      "\n",
      "Epoch: 5\n",
      "Batch 100, Loss: 0.002\n",
      "Batch 200, Loss: 0.002\n",
      "\n",
      "Val Loss: 0.007\n",
      "***************************************************\n",
      "\n",
      "Epoch: 6\n",
      "Batch 100, Loss: 0.002\n",
      "Batch 200, Loss: 0.002\n",
      "\n",
      "Val Loss: 0.006\n",
      "***************************************************\n",
      "\n",
      "Epoch: 7\n",
      "Batch 100, Loss: 0.001\n",
      "Batch 200, Loss: 0.001\n",
      "\n",
      "Val Loss: 0.004\n",
      "***************************************************\n",
      "\n",
      "Epoch: 8\n",
      "Batch 100, Loss: 0.001\n",
      "Batch 200, Loss: 0.001\n",
      "\n",
      "Val Loss: 0.004\n",
      "***************************************************\n",
      "\n",
      "Epoch: 9\n",
      "Batch 100, Loss: 0.001\n",
      "Batch 200, Loss: 0.001\n",
      "\n",
      "Val Loss: 0.004\n",
      "***************************************************\n",
      "\n",
      "Epoch: 10\n",
      "Batch 100, Loss: 0.001\n",
      "Batch 200, Loss: 0.001\n",
      "\n",
      "Val Loss: 0.003\n",
      "***************************************************\n",
      "\n"
     ]
    }
   ],
   "source": [
    "learning_rate = 0.001\n",
    "num_epochs = 10\n",
    "loss_function = nn.MSELoss()\n",
    "optimizer = torch.optim.Adam(model.parameters(), lr=learning_rate)\n",
    "\n",
    "for epoch in range(num_epochs):\n",
    "    train_one_epoch()\n",
    "    validate_one_epoch()"
   ]
  },
  {
   "cell_type": "code",
   "execution_count": 40,
   "id": "497d6238",
   "metadata": {},
   "outputs": [
    {
     "data": {
      "image/png": "[encoded data removed]",
      "text/plain": [
       "<Figure size 640x480 with 1 Axes>"
      ]
     },
     "metadata": {},
     "output_type": "display_data"
    }
   ],
   "source": [
    "with torch.no_grad():\n",
    "    predicted = model(X_train.to(device)).to('cpu').numpy()\n",
    "\n",
    "plt.plot(y_train, label='Actual Close')\n",
    "plt.plot(predicted, label='Predicted Close')\n",
    "plt.xlabel('Day')\n",
    "plt.ylabel('Close')\n",
    "plt.legend()\n",
    "plt.show()"
   ]
  },
  {
   "cell_type": "code",
   "execution_count": 41,
   "id": "7ef2a137",
   "metadata": {},
   "outputs": [
    {
     "data": {
      "text/plain": [
       "array([-0.98178941, -0.98170382, -0.98149091, ..., -0.01086617,\n",
       "       -0.01250666, -0.01238796])"
      ]
     },
     "execution_count": 41,
     "metadata": {},
     "output_type": "execute_result"
    }
   ],
   "source": [
    "train_predictions = predicted.flatten()\n",
    "\n",
    "dummies = np.zeros((X_train.shape[0], lookback+1))\n",
    "dummies[:, 0] = train_predictions\n",
    "dummies = scaler.inverse_transform(dummies)\n",
    "\n",
    "train_predictions = dc(dummies[:, 0])\n",
    "train_predictions"
   ]
  },
  {
   "cell_type": "code",
   "execution_count": 42,
   "id": "a60f2068",
   "metadata": {},
   "outputs": [
    {
     "data": {
      "text/plain": [
       "array([-0.99071068, -0.98992264, -0.98919398, ...,  0.0244296 ,\n",
       "        0.06588333,  0.05411648])"
      ]
     },
     "execution_count": 42,
     "metadata": {},
     "output_type": "execute_result"
    }
   ],
   "source": [
    "dummies = np.zeros((X_train.shape[0], lookback+1))\n",
    "dummies[:, 0] = y_train.flatten()\n",
    "dummies = scaler.inverse_transform(dummies)\n",
    "\n",
    "new_y_train = dc(dummies[:, 0])\n",
    "new_y_train"
   ]
  },
  {
   "cell_type": "code",
   "execution_count": 43,
   "id": "409a0252",
   "metadata": {},
   "outputs": [
    {
     "data": {
      "image/png": "[encoded data removed]",
      "text/plain": [
       "<Figure size 640x480 with 1 Axes>"
      ]
     },
     "metadata": {},
     "output_type": "display_data"
    }
   ],
   "source": [
    "plt.plot(new_y_train, label='Actual Close')\n",
    "plt.plot(train_predictions, label='Predicted Close')\n",
    "plt.xlabel('Day')\n",
    "plt.ylabel('Close')\n",
    "plt.legend()\n",
    "plt.show()"
   ]
  },
  {
   "cell_type": "code",
   "execution_count": 44,
   "id": "64c5e957",
   "metadata": {},
   "outputs": [
    {
     "data": {
      "text/plain": [
       "array([-0.01364523, -0.00808254,  0.00767112,  0.02255213,  0.03274748,\n",
       "        0.04239807,  0.03850982,  0.03701469,  0.04200947,  0.03617671,\n",
       "        0.0371426 ,  0.03861406,  0.04385987,  0.0506722 ,  0.06470901,\n",
       "        0.07152361,  0.07321116,  0.0689306 ,  0.06827644,  0.05964077,\n",
       "        0.06069323,  0.05832991,  0.05434862,  0.05777958,  0.07430983,\n",
       "        0.0774779 ,  0.0806883 ,  0.08438441,  0.09341615,  0.09599397,\n",
       "        0.10203683,  0.0967654 ,  0.09088099,  0.09923148,  0.10300174,\n",
       "        0.08603695,  0.08044142,  0.08930993,  0.09573409,  0.10454942,\n",
       "        0.11630118,  0.12605423,  0.13980901,  0.15789136,  0.16731028,\n",
       "        0.17007393,  0.18211918,  0.19547437,  0.20355067,  0.20899375,\n",
       "        0.20538127,  0.20800352,  0.21816483,  0.23334578,  0.24564482,\n",
       "        0.27196565,  0.28002641,  0.2849068 ,  0.29555374,  0.30252022,\n",
       "        0.30578712,  0.30600408,  0.29943103,  0.31353077,  0.31782526,\n",
       "        0.3265937 ,  0.32888317,  0.3310999 ,  0.33342585,  0.33435321,\n",
       "        0.34218615,  0.34885854,  0.36470026,  0.36178172,  0.36122537,\n",
       "        0.36734471,  0.36817229,  0.36668146,  0.37164509,  0.36966223,\n",
       "        0.37185585,  0.37435216,  0.38530636,  0.3907811 ,  0.41086483,\n",
       "        0.42220494,  0.42759174,  0.41873494,  0.4068138 ,  0.39615744,\n",
       "        0.38766387,  0.36987638,  0.37261641,  0.37383059,  0.37654325,\n",
       "        0.37812585,  0.39486471,  0.42011422,  0.43331507,  0.44024295,\n",
       "        0.4554131 ,  0.48535013,  0.52046061,  0.51911914,  0.50439799,\n",
       "        0.49331105,  0.4870857 ,  0.47869396,  0.47006136,  0.45290709,\n",
       "        0.43948549,  0.43479538,  0.43319237,  0.43667638,  0.43542886,\n",
       "        0.43964046,  0.43930992,  0.45290634,  0.46056998,  0.47261271,\n",
       "        0.48022225,  0.49486685,  0.49956489,  0.50873947,  0.52212077,\n",
       "        0.53941518,  0.54872912,  0.55572569,  0.54346216,  0.52934116,\n",
       "        0.49930868,  0.46592727,  0.43804085,  0.40657613,  0.37846011,\n",
       "        0.35370994,  0.35055789,  0.34455255,  0.32849193,  0.32988745,\n",
       "        0.33322683,  0.33813107,  0.34153759,  0.33683074,  0.35248017,\n",
       "        0.35917819,  0.37454823,  0.38368595,  0.38989496,  0.39274603,\n",
       "        0.38350087,  0.37084687,  0.36911082,  0.34948799,  0.32747439,\n",
       "        0.32132912,  0.31649461,  0.32603154,  0.33733389,  0.34282157,\n",
       "        0.3807146 ,  0.43643001,  0.47234434,  0.4937382 ,  0.51545787,\n",
       "        0.52901882,  0.53970516,  0.55356634,  0.56339765,  0.56386006,\n",
       "        0.56843829,  0.58025062,  0.58160365,  0.58964062,  0.5884403 ,\n",
       "        0.59620482,  0.60584867,  0.60897708,  0.60876918,  0.61649108,\n",
       "        0.61479938,  0.61475253,  0.60949934,  0.60758424,  0.60826933,\n",
       "        0.60863191,  0.60722375,  0.61409855,  0.61413622,  0.62386787,\n",
       "        0.63215405,  0.6398387 ,  0.65138596,  0.66136432,  0.66833383,\n",
       "        0.6798631 ,  0.68712044,  0.68573678,  0.68341535,  0.68333179,\n",
       "        0.67763019,  0.66850436,  0.65760636,  0.64823329,  0.63964713,\n",
       "        0.63615328,  0.63930011,  0.64571261,  0.66177911,  0.67674005,\n",
       "        0.68518877,  0.69106591,  0.69239098,  0.69146609,  0.69215482,\n",
       "        0.69662189,  0.70600879,  0.71429443,  0.71850145,  0.7222991 ,\n",
       "        0.72623712,  0.73584068,  0.74479282,  0.75207549,  0.75686139,\n",
       "        0.76507354,  0.78147131,  0.79440069,  0.79283309,  0.79307318,\n",
       "        0.79466647,  0.79463929,  0.79518151,  0.79070777,  0.78896368,\n",
       "        0.79187179,  0.79230732,  0.79394913,  0.79592437,  0.80187577,\n",
       "        0.80790079,  0.80876732,  0.8087126 ,  0.80869532,  0.81040102,\n",
       "        0.81275809,  0.81154299,  0.80934495,  0.80732191,  0.80859375,\n",
       "        0.81011999,  0.80872321])"
      ]
     },
     "execution_count": 44,
     "metadata": {},
     "output_type": "execute_result"
    }
   ],
   "source": [
    "test_predictions = model(X_test.to(device)).detach().cpu().numpy().flatten()\n",
    "\n",
    "dummies = np.zeros((X_test.shape[0], lookback+1))\n",
    "dummies[:, 0] = test_predictions\n",
    "dummies = scaler.inverse_transform(dummies)\n",
    "\n",
    "test_predictions = dc(dummies[:, 0])\n",
    "test_predictions"
   ]
  },
  {
   "cell_type": "code",
   "execution_count": 45,
   "id": "4682e8e5",
   "metadata": {},
   "outputs": [
    {
     "data": {
      "text/plain": [
       "array([0.04073042, 0.07203661, 0.05141767, 0.05152565, 0.0452644 ,\n",
       "       0.04429287, 0.03565665, 0.06815032, 0.08704197, 0.10096782,\n",
       "       0.09146805, 0.10809264, 0.07732625, 0.08768966, 0.08887714,\n",
       "       0.06458787, 0.04202588, 0.09136008, 0.09254756, 0.09503042,\n",
       "       0.09028057, 0.11187103, 0.10658132, 0.1405863 , 0.13248989,\n",
       "       0.09319525, 0.11921179, 0.17146067, 0.12428548, 0.08758176,\n",
       "       0.10463817, 0.10485411, 0.10863243, 0.12655255, 0.12838772,\n",
       "       0.13691597, 0.17545494, 0.19693743, 0.1762106 , 0.18635806,\n",
       "       0.21010762, 0.23277758, 0.26138496, 0.24087401, 0.22748795,\n",
       "       0.227272  , 0.24627163, 0.22737998, 0.2825436 , 0.29927626,\n",
       "       0.28761739, 0.31125888, 0.32723585, 0.33857089, 0.3527126 ,\n",
       "       0.29463428, 0.32723585, 0.31838378, 0.3522808 , 0.35325241,\n",
       "       0.35066149, 0.35811022, 0.34062192, 0.34375256, 0.33349711,\n",
       "       0.39092764, 0.38207564, 0.3604852 , 0.38045627, 0.37894493,\n",
       "       0.36663848, 0.39319474, 0.3916834 , 0.39341068, 0.37160426,\n",
       "       0.38693348, 0.35832611, 0.37613824, 0.39794466, 0.43572795,\n",
       "       0.43983003, 0.42773944, 0.41985896, 0.44717088, 0.38887671,\n",
       "       0.38930842, 0.37635419, 0.37991664, 0.3693372 , 0.37041679,\n",
       "       0.41316596, 0.4290348 , 0.40755239, 0.36998504, 0.37754166,\n",
       "       0.49261889, 0.52122617, 0.49661306, 0.47405106, 0.48171559,\n",
       "       0.48009637, 0.50341409, 0.47210783, 0.44404033, 0.43227342,\n",
       "       0.42406911, 0.43983003, 0.43518817, 0.44889817, 0.40917161,\n",
       "       0.42450082, 0.42320547, 0.44231305, 0.44404033, 0.47577816,\n",
       "       0.47696567, 0.4677898 , 0.44717088, 0.47405106, 0.47815314,\n",
       "       0.53072602, 0.51053882, 0.54961771, 0.54821426, 0.50147086,\n",
       "       0.4970448 , 0.47167611, 0.44641513, 0.38207564, 0.37980857,\n",
       "       0.40301841, 0.34591165, 0.34591165, 0.34591165, 0.35821819,\n",
       "       0.38347909, 0.33230963, 0.35692275, 0.3456957 , 0.36728615,\n",
       "       0.37052467, 0.38369486, 0.40906373, 0.41446134, 0.38704136,\n",
       "       0.41683632, 0.40517744, 0.3691214 , 0.37203601, 0.33716744,\n",
       "       0.35217282, 0.37376326, 0.29636151, 0.27671418, 0.3649112 ,\n",
       "       0.41856357, 0.42266566, 0.46487504, 0.47642604, 0.48214749,\n",
       "       0.49445406, 0.5265159 , 0.51971483, 0.50373793, 0.53569174,\n",
       "       0.52522033, 0.5598731 , 0.53180546, 0.52781129, 0.55317998,\n",
       "       0.56343555, 0.53936207, 0.56969684, 0.57002068, 0.58070785,\n",
       "       0.57315123, 0.56548667, 0.56300366, 0.57315123, 0.54950964,\n",
       "       0.57153201, 0.54605526, 0.57153201, 0.57736135, 0.56084466,\n",
       "       0.57800901, 0.59269053, 0.57736135, 0.60488921, 0.64914972,\n",
       "       0.64612693, 0.62809891, 0.64666671, 0.6421327 , 0.64202482,\n",
       "       0.64126909, 0.64170098, 0.62615585, 0.60445732, 0.58869636,\n",
       "       0.54659504, 0.55382782, 0.59549743, 0.62000245, 0.6454792 ,\n",
       "       0.66113228, 0.65508699, 0.63932604, 0.62367296, 0.64299637,\n",
       "       0.66285956, 0.65681422, 0.67020041, 0.67937624, 0.68887609,\n",
       "       0.70366549, 0.7267673 , 0.70237011, 0.66134822, 0.70539278,\n",
       "       0.840657  , 0.82446414, 0.81194168, 0.82683915, 0.81939042,\n",
       "       0.86915642, 0.84637845, 0.80643618, 0.83169693, 0.81895864,\n",
       "       0.81582797, 0.7895956 , 0.80589634, 0.87055987, 0.87498593,\n",
       "       0.87217909, 0.85933274, 0.85523063, 0.89409339, 0.90985447,\n",
       "       0.90294552, 0.86559397, 0.85900885, 0.89474124, 0.87887222,\n",
       "       0.84227639, 0.87930393, 0.89193434, 0.91557592, 0.86883259,\n",
       "       0.86948025, 0.88480949])"
      ]
     },
     "execution_count": 45,
     "metadata": {},
     "output_type": "execute_result"
    }
   ],
   "source": [
    "dummies = np.zeros((X_test.shape[0], lookback+1))\n",
    "dummies[:, 0] = y_test.flatten()\n",
    "dummies = scaler.inverse_transform(dummies)\n",
    "\n",
    "new_y_test = dc(dummies[:, 0])\n",
    "new_y_test"
   ]
  },
  {
   "cell_type": "code",
   "execution_count": 46,
   "id": "9ecd26e6",
   "metadata": {},
   "outputs": [
    {
     "data": {
      "image/png": "[encoded data removed]",
      "text/plain": [
       "<Figure size 640x480 with 1 Axes>"
      ]
     },
     "metadata": {},
     "output_type": "display_data"
    }
   ],
   "source": [
    "plt.plot(new_y_test, label='Actual Close')\n",
    "plt.plot(test_predictions, label='Predicted Close')\n",
    "plt.xlabel('Day')\n",
    "plt.ylabel('Close')\n",
    "plt.legend()\n",
    "plt.show()"
   ]
  },
  {
   "cell_type": "code",
   "execution_count": null,
   "id": "7097b082",
   "metadata": {},
   "outputs": [],
   "source": [
    "# Credit by Edoardo Alberto Donolato"
   ]
  }
 ],
 "metadata": {
  "kernelspec": {
   "display_name": "Python 3 (ipykernel)",
   "language": "python",
   "name": "python3"
  },
  "language_info": {
   "codemirror_mode": {
    "name": "ipython",
    "version": 3
   },
   "file_extension": ".py",
   "mimetype": "text/x-python",
   "name": "python",
   "nbconvert_exporter": "python",
   "pygments_lexer": "ipython3",
   "version": "3.9.13"
  }
 },
 "nbformat": 4,
 "nbformat_minor": 5
}
